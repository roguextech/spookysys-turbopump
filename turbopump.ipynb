{
 "cells": [
  {
   "cell_type": "markdown",
   "metadata": {},
   "source": []
  },
  {
   "cell_type": "code",
   "execution_count": 2,
   "metadata": {
    "collapsed": true
   },
   "outputs": [],
   "source": [
    "# Imports\n",
    "from units import ureg\n",
    "import scipy.constants"
   ]
  },
  {
   "cell_type": "code",
   "execution_count": 3,
   "metadata": {},
   "outputs": [
    {
     "name": "stdout",
     "output_type": "stream",
     "text": [
      "n: 6000 revolutions_per_minute\n",
      "density: 1.141 kilogram / liter\n",
      "head: 223.425988821 meter\n",
      "flow: 21.9106047327 liter / second\n"
     ]
    }
   ],
   "source": [
    "# Given specs\n",
    "n = 6000 * ureg.rpm\n",
    "g = scipy.constants.g * ureg['m/s**2']\n",
    "density = 1.141 * ureg['kg/l']\n",
    "Q = (25 * ureg['kg/s'] / density).to('l/s')\n",
    "H = (25 * ureg['bar'] / density / g).to('m')\n",
    "print('n: {}\\ndensity: {}\\nhead: {}\\nflow: {}'.format(n, density, H, Q))"
   ]
  },
  {
   "cell_type": "code",
   "execution_count": 4,
   "metadata": {},
   "outputs": [
    {
     "name": "stdout",
     "output_type": "stream",
     "text": [
      "power: 54.7765118317 kilowatt\n"
     ]
    }
   ],
   "source": [
    "# Output power\n",
    "work_per_kilo = H * g\n",
    "kilos_per_second = Q * density\n",
    "P = (work_per_kilo * kilos_per_second).to('W')\n",
    "print('power: {}'.format(P.to('kW')))"
   ]
  },
  {
   "cell_type": "markdown",
   "metadata": {},
   "source": [
    "## Pump dimensions\n",
    "\n",
    "Here's the impeller dimensions"
   ]
  },
  {
   "cell_type": "code",
   "execution_count": 5,
   "metadata": {
    "collapsed": true
   },
   "outputs": [],
   "source": [
    "from pump.lobanoff.tryme import generate"
   ]
  },
  {
   "cell_type": "code",
   "execution_count": 6,
   "metadata": {},
   "outputs": [
    {
     "name": "stdout",
     "output_type": "stream",
     "text": [
      "Nss: 23.708421008 meter ** 0.75 * radian / second ** 1.5\n",
      "Ae: 0.00612539852451 meter ** 2\n",
      "Su1: 0.003474553624 meter\n",
      "head_rise_shutoff: 0.133044207453 count\n",
      "Ut: 27.7441936303 meter / second\n",
      "npshr: 6.18689235263 meter\n",
      "U2: 65.8444784149 meter / second\n",
      "prerot_angle: 0.711308329666 radian\n",
      "Cm2: 4.77425926402 meter / second\n",
      "discharge_angle: 0.439102676891 radian\n",
      "B1: 0.144039731977 radian\n",
      "Su2: 0.00561288596939 meter\n",
      "b2: 0.0073456453568 meter\n",
      "b3: 0.0143131666114 meter\n",
      "C3: 24.1621204182 meter / second\n",
      "A8: 0.000906816303929 meter ** 2\n",
      "Ns: 1.60937327038 meter ** 0.75 * radian / second ** 1.5\n",
      "D2: 0.209589484301 meter\n",
      "D3: 0.220247936979 meter\n",
      "Cm1: 3.57700885012 meter / second\n",
      "D1: 0.0883125111673 meter\n",
      "Nss: 11692.4169829 Ns_loba\n",
      "Ns: 793.703779432 Ns_loba\n"
     ]
    }
   ],
   "source": [
    "pumpe = generate(\n",
    "    Q,\n",
    "    H,\n",
    "    n,\n",
    "    6 * ureg.count, # number of vanes\n",
    "    0 * ureg.inch\n",
    ")\n",
    "print('\\n'.join((str(x) + ': ' + str(pumpe[x].to_base_units()) for x in pumpe)))\n",
    "print('Nss: {}'.format(pumpe['Nss']))\n",
    "print('Ns: {}'.format(pumpe['Ns']))"
   ]
  },
  {
   "cell_type": "code",
   "execution_count": null,
   "metadata": {
    "collapsed": true
   },
   "outputs": [],
   "source": []
  }
 ],
 "metadata": {
  "kernelspec": {
   "display_name": "Python 2",
   "language": "python",
   "name": "python2"
  },
  "language_info": {
   "codemirror_mode": {
    "name": "ipython",
    "version": 2
   },
   "file_extension": ".py",
   "mimetype": "text/x-python",
   "name": "python",
   "nbconvert_exporter": "python",
   "pygments_lexer": "ipython2",
   "version": "2.7.13"
  }
 },
 "nbformat": 4,
 "nbformat_minor": 2
}
